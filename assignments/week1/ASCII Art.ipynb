{
 "cells": [
  {
   "cell_type": "code",
   "id": "initial_id",
   "metadata": {
    "collapsed": true,
    "ExecuteTime": {
     "end_time": "2025-04-13T19:55:13.644424Z",
     "start_time": "2025-04-13T19:55:13.638154Z"
    }
   },
   "source": [
    "print(\"                   |    :|\")\n",
    "print(\"                   |     |\")\n",
    "print(\"                   |    .|\")\n",
    "print(\"               ____|    .|\")\n",
    "print(\"             .' .  ).   ,'\")\n",
    "print(\"           .' c   '7 ) (\")\n",
    "print(\"       _.-'       |.'   `.\")\n",
    "print(\"     .'           '8E   :|\")\n",
    "print(\"     |          _}\"\"    :|\")\n",
    "print(\"     |         (   |     |\")\n",
    "print(\"    .'         )   |    :|\")\n",
    "print(\".odCG8o_.---.__8E  |    .| \")\n",
    "print(\"`Y8MMP\"\"       \"\"  `-...-'   cgmm\")"
   ],
   "outputs": [
    {
     "name": "stdout",
     "output_type": "stream",
     "text": [
      "                   |    :|\n",
      "                   |     |\n",
      "                   |    .|\n",
      "               ____|    .|\n",
      "             .' .  ).   ,'\n",
      "           .' c   '7 ) (\n",
      "       _.-'       |.'   `.\n",
      "     .'           '8E   :|\n",
      "     |          _}    :|\n",
      "     |         (   |     |\n",
      "    .'         )   |    :|\n",
      ".odCG8o_.---.__8E  |    .| \n",
      "`Y8MMP         `-...-'   cgmm\n"
     ]
    }
   ],
   "execution_count": 7
  },
  {
   "metadata": {},
   "cell_type": "code",
   "outputs": [],
   "execution_count": null,
   "source": "",
   "id": "c5fcd7d60802afd5"
  }
 ],
 "metadata": {
  "kernelspec": {
   "display_name": "Python 3",
   "language": "python",
   "name": "python3"
  },
  "language_info": {
   "codemirror_mode": {
    "name": "ipython",
    "version": 2
   },
   "file_extension": ".py",
   "mimetype": "text/x-python",
   "name": "python",
   "nbconvert_exporter": "python",
   "pygments_lexer": "ipython2",
   "version": "2.7.6"
  }
 },
 "nbformat": 4,
 "nbformat_minor": 5
}
